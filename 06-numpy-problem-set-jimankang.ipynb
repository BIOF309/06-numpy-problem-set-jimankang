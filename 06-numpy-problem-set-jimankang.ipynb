{
 "cells": [
  {
   "cell_type": "code",
   "execution_count": null,
   "metadata": {
    "collapsed": true
   },
   "outputs": [],
   "source": [
    "Write sum and mean for 5 students midterm score (science, math and english)"
   ]
  },
  {
   "cell_type": "code",
   "execution_count": 43,
   "metadata": {},
   "outputs": [
    {
     "name": "stdout",
     "output_type": "stream",
     "text": [
      "[[10, 20, 30, 40, 50], [20, 30, 40, 50, 60], [30, 40, 50, 60, 70]]\n",
      "(3, 5)\n",
      "30\n",
      "[[False False False False  True]\n",
      " [False False False  True  True]\n",
      " [False False  True  True  True]]\n",
      "[50 50 60 50 60 70]\n",
      "[10 20 30]\n",
      "[ 60  90 120 150 180]\n",
      "[ 20.  30.  40.  50.  60.]\n",
      "[ 30.  40.  50.]\n"
     ]
    }
   ],
   "source": [
    "sci_score = [10,20,30,40,50]\n",
    "mat_score = [20,30,40,50,60]\n",
    "eng_score = [30,40,50,60,70]\n",
    "\n",
    "midterm_score = [sci_score, mat_score, eng_score]\n",
    "import numpy as np\n",
    "\n",
    "np_midterm_score = np.array(midterm_score)\n",
    "print(midterm_score)\n",
    "print(np_midterm_score.shape)\n",
    "print(np_midterm_score[1,1])\n",
    "print(np_midterm_score>40)\n",
    "print(np_midterm_score[np_midterm_score>40])\n",
    "print(np_midterm_score[:,0])\n",
    "\n",
    "students_sum =np.sum (np_midterm_score, axis =0)\n",
    "print(students_sum)\n",
    "\n",
    "students_mean = np.mean(np_midterm_score, axis =0)\n",
    "print(students_mean)\n",
    "\n",
    "sci_mat_eng_score_mean =np.mean(np_midterm_score, axis =1)\n",
    "print(sci_mat_eng_score_mean)\n",
    "                         "
   ]
  },
  {
   "cell_type": "code",
   "execution_count": null,
   "metadata": {
    "collapsed": true
   },
   "outputs": [],
   "source": [
    "Test"
   ]
  },
  {
   "cell_type": "code",
   "execution_count": null,
   "metadata": {
    "collapsed": true
   },
   "outputs": [],
   "source": []
  },
  {
   "cell_type": "code",
   "execution_count": 44,
   "metadata": {},
   "outputs": [
    {
     "name": "stdout",
     "output_type": "stream",
     "text": [
      "[[  2.   4.   6.]\n",
      " [  8.  10.  12.]]\n",
      "[[ 1.  4.]\n",
      " [ 2.  5.]\n",
      " [ 3.  6.]]\n",
      "[[  1.   4.   9.]\n",
      " [ 16.  25.  36.]]\n",
      "[[  6.   7.   8.]\n",
      " [  9.  10.  11.]]\n"
     ]
    }
   ],
   "source": [
    "import numpy as np\n",
    "test=np.array([[1,2,3],[4,5,6]], float)\n",
    "print(test +test)\n",
    "print(test.transpose())\n",
    "print(test*test)\n",
    "scalar =5\n",
    "print (test+scalar)"
   ]
  },
  {
   "cell_type": "code",
   "execution_count": null,
   "metadata": {
    "collapsed": true
   },
   "outputs": [],
   "source": []
  },
  {
   "cell_type": "code",
   "execution_count": null,
   "metadata": {
    "collapsed": true
   },
   "outputs": [],
   "source": []
  },
  {
   "cell_type": "code",
   "execution_count": null,
   "metadata": {
    "collapsed": true
   },
   "outputs": [],
   "source": []
  },
  {
   "cell_type": "code",
   "execution_count": null,
   "metadata": {
    "collapsed": true
   },
   "outputs": [],
   "source": []
  }
 ],
 "metadata": {
  "kernelspec": {
   "display_name": "Python 3",
   "language": "python",
   "name": "python3"
  },
  "language_info": {
   "codemirror_mode": {
    "name": "ipython",
    "version": 3
   },
   "file_extension": ".py",
   "mimetype": "text/x-python",
   "name": "python",
   "nbconvert_exporter": "python",
   "pygments_lexer": "ipython3",
   "version": "3.6.1"
  }
 },
 "nbformat": 4,
 "nbformat_minor": 2
}
